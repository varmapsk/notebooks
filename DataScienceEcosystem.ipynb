{
 "cells": [
  {
   "cell_type": "markdown",
   "id": "f487db50-6be4-4a66-b121-d3e06f197d25",
   "metadata": {},
   "source": [
    "# Data Science Tools and Ecosystem\n",
    "\n",
    "##### In this notebook, Data Science Tools and Ecosystem are summarized"
   ]
  },
  {
   "cell_type": "markdown",
   "id": "cd1caa37-4adf-4941-adc9-646b2e4cea81",
   "metadata": {},
   "source": [
    "### **Objectives:**\n",
    "* List Popular languages used by Data Scientists\n",
    "* List Commonly used Libraries by Data Scientists\n",
    "* List Data Science Tools\n",
    "* List examples of evaluating arithmetic expressions in Python\n",
    "* A few simple Arithmetic expressions"
   ]
  },
  {
   "cell_type": "markdown",
   "id": "5b3a8b52-b65a-4b67-baad-6c0503fc38bd",
   "metadata": {},
   "source": [
    "##### Some of the popular languages that Data Scientists use are:\n",
    "1. R\n",
    "2. Python\n",
    "3. Scala\n",
    "4. Julia\n",
    "5. C++\n",
    "6. MATLAB\n",
    "7. Java"
   ]
  },
  {
   "cell_type": "markdown",
   "id": "86010908-3e93-473d-9f44-dfdf0c7995c8",
   "metadata": {},
   "source": [
    "Some of the commonly used libraries used by Data Scientists include:\n",
    "1. pandas\n",
    "2. Numpy\n",
    "3. scikit-leant\n",
    "4. Matplotlib\n",
    "5. Seaborn\n",
    "6. TensorFlow\n",
    "7. PyTorch\n",
    "8. Keras\n",
    "9. NLTK (Natural Language ToolKit)\n",
    "10. BeautifulSoup"
   ]
  },
  {
   "cell_type": "markdown",
   "id": "b28d8536-847f-4299-a26e-49fbdbf9d598",
   "metadata": {},
   "source": [
    "\n",
    "\n",
    "| Data Science Tools | \n",
    "|--------------------|\n",
    "| github             |\n",
    "| RStudio            |\n",
    "| Jupyter Notebooks  |"
   ]
  },
  {
   "cell_type": "markdown",
   "id": "c82e5206-55a3-4064-9a30-5470c4d90dff",
   "metadata": {},
   "source": [
    "### Below are a few examples of evaluating arithmetic expressions in Python\n",
    "\n",
    "result = 5 + 3 #addition\n",
    "\n",
    "result = 5 - 3 #subtraction\n",
    "\n",
    "result = 5 * 3 #multiplication\n",
    "\n",
    "result = 5 / 3 #division with float output\n",
    "\n",
    "result = 5 // 3 #division with int output\n"
   ]
  },
  {
   "cell_type": "code",
   "execution_count": 2,
   "id": "33c206e8-e940-46e5-bee5-ca3c3cd863f6",
   "metadata": {
    "tags": []
   },
   "outputs": [
    {
     "data": {
      "text/plain": [
       "17"
      ]
     },
     "execution_count": 2,
     "metadata": {},
     "output_type": "execute_result"
    }
   ],
   "source": [
    "# This a simple arithmetic expression to mutiply then add integers\n",
    "(3*4)+5"
   ]
  },
  {
   "cell_type": "code",
   "execution_count": 3,
   "id": "aeaefd14-119d-4c76-a9fb-a986683275cc",
   "metadata": {
    "tags": []
   },
   "outputs": [
    {
     "data": {
      "text/plain": [
       "3.3333333333333335"
      ]
     },
     "execution_count": 3,
     "metadata": {},
     "output_type": "execute_result"
    }
   ],
   "source": [
    "#This will convert 200 minutes to hours by dividing by 60\n",
    "200 / 60"
   ]
  },
  {
   "cell_type": "markdown",
   "id": "ac44cc94-133f-4847-8754-22043eea2199",
   "metadata": {},
   "source": [
    "## Author\n",
    "P S K Varma"
   ]
  },
  {
   "cell_type": "code",
   "execution_count": null,
   "id": "4fee5155-0826-4d00-a8b8-0ec9b9459864",
   "metadata": {},
   "outputs": [],
   "source": [
    "##### uploading the notebook to GITHub repository "
   ]
  }
 ],
 "metadata": {
  "kernelspec": {
   "display_name": "Python",
   "language": "python",
   "name": "conda-env-python-py"
  },
  "language_info": {
   "codemirror_mode": {
    "name": "ipython",
    "version": 3
   },
   "file_extension": ".py",
   "mimetype": "text/x-python",
   "name": "python",
   "nbconvert_exporter": "python",
   "pygments_lexer": "ipython3",
   "version": "3.7.12"
  }
 },
 "nbformat": 4,
 "nbformat_minor": 5
}
